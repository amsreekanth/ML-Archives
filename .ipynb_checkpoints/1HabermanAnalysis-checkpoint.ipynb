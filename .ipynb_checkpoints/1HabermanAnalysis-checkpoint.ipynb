{
 "cells": [
  {
   "cell_type": "code",
   "execution_count": 1,
   "metadata": {},
   "outputs": [],
   "source": [
    "import pandas as pd\n",
    "import seaborn as sns\n",
    "import matplotlib.pyplot as plt\n",
    "import numpy as np\n",
    "\n",
    "import warnings; warnings.simplefilter('ignore')"
   ]
  },
  {
   "cell_type": "code",
   "execution_count": 2,
   "metadata": {},
   "outputs": [],
   "source": [
    "datasets_path = '/home/monodeepdas112/container-vrts/AppliedAICourse/Datasets/'\n",
    "dataset = 'haberman.csv'\n",
    "haberman = pd.read_csv(datasets_path+dataset)"
   ]
  },
  {
   "cell_type": "markdown",
   "metadata": {},
   "source": [
    "## Description of the dataset"
   ]
  },
  {
   "cell_type": "code",
   "execution_count": 3,
   "metadata": {},
   "outputs": [],
   "source": [
    "#Converting to proper dataset column names\n",
    "haberman.columns = pd.Series(['Age', 'Op_Year', 'Num_Ax_nodes', 'Survival_Status'])"
   ]
  },
  {
   "cell_type": "code",
   "execution_count": 4,
   "metadata": {},
   "outputs": [
    {
     "name": "stdout",
     "output_type": "stream",
     "text": [
      "Dataset Shape :  (305, 4)\n",
      "\n",
      "Description :\n",
      "               Age     Op_Year  Num_Ax_nodes  Survival_Status\n",
      "count  305.000000  305.000000    305.000000       305.000000\n",
      "mean    52.531148   62.849180      4.036066         1.265574\n",
      "std     10.744024    3.254078      7.199370         0.442364\n",
      "min     30.000000   58.000000      0.000000         1.000000\n",
      "25%     44.000000   60.000000      0.000000         1.000000\n",
      "50%     52.000000   63.000000      1.000000         1.000000\n",
      "75%     61.000000   66.000000      4.000000         2.000000\n",
      "max     83.000000   69.000000     52.000000         2.000000\n",
      "\n",
      "\n",
      "Columns in the dataset :  Index(['Age', 'Op_Year', 'Num_Ax_nodes', 'Survival_Status'], dtype='object')\n"
     ]
    }
   ],
   "source": [
    "#Shape\n",
    "print('Dataset Shape : ', haberman.shape)\n",
    "\n",
    "#Description of dataset\n",
    "print('\\nDescription :\\n', haberman.describe())\n",
    "\n",
    "#Columns in the dataset\n",
    "print('\\n\\nColumns in the dataset : ', haberman.columns)"
   ]
  },
  {
   "cell_type": "markdown",
   "metadata": {},
   "source": [
    "### Conclusions from dataset description"
   ]
  },
  {
   "cell_type": "markdown",
   "metadata": {},
   "source": [
    "#### 1. Total number of samples is 305\n",
    "#### 2. There are 4 Attributes Age, Operation Year, Number of Axil nodes found, Surival Status\n",
    "#### 3. Relevant statistical indormation can be found out in the cell above"
   ]
  },
  {
   "cell_type": "markdown",
   "metadata": {},
   "source": [
    "#### Q. How many people lived more than 5 years and how many less than that ?"
   ]
  },
  {
   "cell_type": "code",
   "execution_count": 5,
   "metadata": {},
   "outputs": [
    {
     "data": {
      "image/png": "[encoded data removed]",
      "text/plain": [
       "<Figure size 432x288 with 1 Axes>"
      ]
     },
     "metadata": {},
     "output_type": "display_data"
    }
   ],
   "source": [
    "sns.distplot(haberman.Survival_Status, kde=False, rug=True);"
   ]
  },
  {
   "cell_type": "markdown",
   "metadata": {},
   "source": [
    "#### Approx 225 people who lived more than 5 years after their operation and approx 75 people who lived less than 5 years"
   ]
  },
  {
   "cell_type": "markdown",
   "metadata": {},
   "source": [
    "#### Q. How many Number of Axil nodes were found for the people who lived more than 5 years ?"
   ]
  },
  {
   "cell_type": "code",
   "execution_count": 6,
   "metadata": {},
   "outputs": [
    {
     "name": "stdout",
     "output_type": "stream",
     "text": [
      "Number of people who lived for more than 5 years : \n",
      "\n",
      "               Age     Op_Year  Num_Ax_nodes  Survival_Status\n",
      "count  224.000000  224.000000    224.000000            224.0\n",
      "mean    52.116071   62.857143      2.799107              1.0\n",
      "std     10.937446    3.229231      5.882237              0.0\n",
      "min     30.000000   58.000000      0.000000              1.0\n",
      "25%     43.000000   60.000000      0.000000              1.0\n",
      "50%     52.000000   63.000000      0.000000              1.0\n",
      "75%     60.000000   66.000000      3.000000              1.0\n",
      "max     77.000000   69.000000     46.000000              1.0\n",
      "\n",
      "\n",
      "Number of people who lived for less than 5 years : \n",
      "              Age    Op_Year  Num_Ax_nodes  Survival_Status\n",
      "count  81.000000  81.000000     81.000000             81.0\n",
      "mean   53.679012  62.827160      7.456790              2.0\n",
      "std    10.167137   3.342118      9.185654              0.0\n",
      "min    34.000000  58.000000      0.000000              2.0\n",
      "25%    46.000000  59.000000      1.000000              2.0\n",
      "50%    53.000000  63.000000      4.000000              2.0\n",
      "75%    61.000000  65.000000     11.000000              2.0\n",
      "max    83.000000  69.000000     52.000000              2.0\n"
     ]
    }
   ],
   "source": [
    "long_lived=haberman.loc[haberman['Survival_Status'] == 1]\n",
    "print('Number of people who lived for more than 5 years : \\n\\n', long_lived.describe())\n",
    "\n",
    "short_lived=haberman.loc[haberman['Survival_Status']==2]\n",
    "print('\\n\\nNumber of people who lived for less than 5 years : \\n', short_lived.describe())"
   ]
  },
  {
   "cell_type": "markdown",
   "metadata": {},
   "source": [
    "#### Mean Number of Positive Axil Nodes : 7.456 for the people who could not live for more than 5 years\n",
    "#### Mean Number of Positive Axil Nodes : 2.799 for the people who could live for more than 5 years\n",
    "#### Gives us a clear picture of the spread of the disease and thus (intuitively) can be used as a important reason for the early death of the people as in their case the disease spread a lot more."
   ]
  },
  {
   "cell_type": "code",
   "execution_count": 11,
   "metadata": {},
   "outputs": [
    {
     "name": "stdout",
     "output_type": "stream",
     "text": [
      "Median Number of Positive Axil Nodes found for class 1 :  30.0\n",
      "Median Number of Positive Axil Nodes found for class 2 :  34.5\n"
     ]
    }
   ],
   "source": [
    "#Finding out the medians\n",
    "print('Median Number of Positive Axil Nodes found for class 1 : ', np.median(long_lived))\n",
    "print('Median Number of Positive Axil Nodes found for class 2 : ', np.median(short_lived))"
   ]
  },
  {
   "cell_type": "markdown",
   "metadata": {},
   "source": [
    "#### Observations are confusing as the median of both the classes differ only by 4 so it cannot be the spread of the disease that might have been the crucial reason behind their deaths. Next Step trying out Box and Violin plots so understand more about the density of the Number of positive Axial Nodes found"
   ]
  },
  {
   "cell_type": "markdown",
   "metadata": {},
   "source": [
    "#### Trying out box plot to see the information visually and to determine the difference between the variance of the Num_Ax_nodes between both classes"
   ]
  },
  {
   "cell_type": "code",
   "execution_count": 8,
   "metadata": {},
   "outputs": [
    {
     "data": {
      "image/png": "[encoded data removed]",
      "text/plain": [
       "<Figure size 432x288 with 1 Axes>"
      ]
     },
     "metadata": {},
     "output_type": "display_data"
    }
   ],
   "source": [
    "sns.boxplot(y='Num_Ax_nodes', x='Survival_Status',data=haberman)\n",
    "plt.show()"
   ]
  },
  {
   "cell_type": "code",
   "execution_count": 9,
   "metadata": {},
   "outputs": [
    {
     "data": {
      "image/png": "[encoded data removed]",
      "text/plain": [
       "<Figure size 432x288 with 1 Axes>"
      ]
     },
     "metadata": {},
     "output_type": "display_data"
    }
   ],
   "source": [
    "#Denser regions are darther and sparser regions are thinner\n",
    "sns.violinplot(y='Num_Ax_nodes', x='Survival_Status', size=10, data=haberman)\n",
    "plt.show()"
   ]
  },
  {
   "cell_type": "markdown",
   "metadata": {},
   "source": [
    "#### As is clearly evident from the data is that 75 percentile of the people who could not live more than 5 years had 10 positive axial nodes where are the 75 percentile of the people who could live longer than 5 years is very much lesser (approx <5)"
   ]
  },
  {
   "cell_type": "markdown",
   "metadata": {},
   "source": [
    "#### As is also evident from the violin plots is that the median is really very close to the 25 percentile in case 1 and the density of people having lesser number of the positive nodes is higher and is below 10.\n",
    "#### But there are more people with more positive nodes in class 2 which can be a reason why most of them could not live for more than 5 years.\n",
    "#### Although there are quite some outliers in class 1 who survived to live more than 5 years despite having more number of positive axial nodes"
   ]
  },
  {
   "cell_type": "code",
   "execution_count": 10,
   "metadata": {},
   "outputs": [
    {
     "data": {
      "text/plain": [
       "<seaborn.axisgrid.JointGrid at 0x7fe74099fd30>"
      ]
     },
     "execution_count": 10,
     "metadata": {},
     "output_type": "execute_result"
    },
    {
     "data": {
      "image/png": "[encoded data removed]",
      "text/plain": [
       "<Figure size 432x432 with 3 Axes>"
      ]
     },
     "metadata": {},
     "output_type": "display_data"
    }
   ],
   "source": [
    "sns.jointplot(y='Num_Ax_nodes', x='Survival_Status', data=haberman, kind='kde')"
   ]
  },
  {
   "cell_type": "markdown",
   "metadata": {},
   "source": [
    "#### I tried to keep all the experiments that I did but this really confuses me. I cannot interpret this contour plot and its significance. Please respond with remarks and suggestions"
   ]
  },
  {
   "cell_type": "markdown",
   "metadata": {},
   "source": [
    "## Final Conclusion\n",
    "#### The given dataset is an imbalanced dataset.\n",
    "#### It is not linearly seperable using a simple if-else construct.\n",
    "#### The Number of Positive Axill nodes says a lot more about the story as it shows the extent of the spread of the disease so intuitively it is something which helps determining the life expectancy as it is shown above in the data exploratory analysis."
   ]
  }
 ],
 "metadata": {
  "kernelspec": {
   "display_name": "Python 3",
   "language": "python",
   "name": "python3"
  },
  "language_info": {
   "codemirror_mode": {
    "name": "ipython",
    "version": 3
   },
   "file_extension": ".py",
   "mimetype": "text/x-python",
   "name": "python",
   "nbconvert_exporter": "python",
   "pygments_lexer": "ipython3",
   "version": "3.6.5"
  }
 },
 "nbformat": 4,
 "nbformat_minor": 2
}
