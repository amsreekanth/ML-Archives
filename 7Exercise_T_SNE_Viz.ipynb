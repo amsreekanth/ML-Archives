{
 "cells": [
  {
   "cell_type": "code",
   "execution_count": 1,
   "metadata": {},
   "outputs": [],
   "source": [
    "import numpy as np\n",
    "import pandas as pd\n",
    "import matplotlib.pyplot as plt\n",
    "import seaborn as sns\n",
    "\n",
    "%matplotlib inline\n",
    "import warnings\n",
    "warnings.filterwarnings(\"ignore\")\n",
    "\n",
    "import sqlite3\n",
    "import nltk\n",
    "import string\n",
    "\n",
    "from sklearn.feature_extraction.text import TfidfTransformer\n",
    "from sklearn.feature_extraction.text import TfidfVectorizer\n",
    "\n",
    "from sklearn.feature_extraction.text import CountVectorizer\n",
    "from sklearn.metrics import confusion_matrix\n",
    "from sklearn import metrics\n",
    "from sklearn.metrics import roc_curve, auc\n",
    "from nltk.stem.porter import PorterStemmer\n",
    "\n",
    "import re\n",
    "import string\n",
    "from nltk.corpus import stopwords\n",
    "from nltk.stem import PorterStemmer\n",
    "from nltk.stem.wordnet import WordNetLemmatizer\n",
    "\n",
    "from gensim.models import Word2Vec\n",
    "from gensim.models import KeyedVectors\n",
    "import pickle\n",
    "\n",
    "from tqdm import tqdm\n",
    "import os\n",
    "\n",
    "from sklearn.utils import shuffle\n",
    "\n",
    "from sklearn.manifold import TSNE"
   ]
  },
  {
   "cell_type": "code",
   "execution_count": 2,
   "metadata": {},
   "outputs": [],
   "source": [
    "#defining all the required functions here\n",
    "def partition(x):\n",
    "    if x < 3:\n",
    "        return 'negative'\n",
    "    return 'positive'\n",
    "\n",
    "def cleanHTML(sentence):\n",
    "    cleanr = re.compile('<.*?>')\n",
    "    cleantext = re.sub(cleanr, ' ', sentence)\n",
    "    return cleantext\n",
    "\n",
    "def cleanPunctuation(sentence):\n",
    "    cleaned = re.sub(r'[?|!|\\'|\"|#]', r'', sentence)\n",
    "    cleaned = re.sub(r'[.|,|)|(|\\|/]', r'', sentence)\n",
    "    return cleaned\n",
    "\n",
    "\n",
    "#removing stop words\n",
    "stop = set(stopwords.words('english')) #set of stopwords\n",
    "sno = nltk.stem.SnowballStemmer('english') #initializing the Snowball Stemmer\n",
    "\n",
    "final_dataset_path = '/home/monodeepdas112/Datasets/amazon-fine-food-reviews/final.sqlite'\n",
    "initial_dataset_path = '/home/monodeepdas112/Datasets/amazon-fine-food-reviews/database.sqlite'"
   ]
  },
  {
   "cell_type": "code",
   "execution_count": 3,
   "metadata": {},
   "outputs": [],
   "source": [
    "if os.path.isfile(final_dataset_path):\n",
    "    #loading the cleaned dataset if present\n",
    "    con = sqlite3.connect(final_dataset_path)\n",
    "    data = pd.read_sql_query('select * from Reviews', con)\n",
    "    \n",
    "    with open('positive_words.pkl', 'rb') as f:\n",
    "        all_positive_words = pickle.load(f)\n",
    "    with open('negitive_words.pkl', 'rb') as f:\n",
    "        all_negative_words = pickle.load(f)\n",
    "else:\n",
    "    #cleaning the dataset and making the finally cleaned dataset if the cleaned dataset is not present\n",
    "    con = sqlite3.connect(initial_dataset_path)\n",
    "    filtered_data = pd.read_sql_query('select * from Reviews where score != 3', con)\n",
    "    \n",
    "    #replacing the score column to contain only positive or negative rather than continuous range of values\n",
    "    actualScore = filtered_data['Score']\n",
    "    positiveNegativeScore = actualScore.map(partition)\n",
    "    filtered_data['Score'] = positiveNegativeScore\n",
    "    \n",
    "    #data deduplication\n",
    "    sorted_data = filtered_data.sort_values('ProductId', axis=0, ascending=True, inplace=False, kind='quicksort', na_position='last')\n",
    "    data = sorted_data.drop_duplicates(subset={\"UserId\",\"ProfileName\",\"Time\",\"Text\"}, keep='first', inplace=False)\n",
    "    \n",
    "    #removing some wrong data points\n",
    "    data = data[data.HelpfulnessNumerator<=data.HelpfulnessDenominator]\n",
    "    \n",
    "    #text pre-processing\n",
    "    final_string=[]\n",
    "    all_positive_words=[] # store words from +ve reviews here\n",
    "    all_negative_words=[] # store words from -ve reviews here.\n",
    "    for i, sent in enumerate(tqdm(data['Text'].values)):\n",
    "        filtered_sentence=[]\n",
    "        sent = cleanHTML(sent)#removing HTML tags\n",
    "        for w in sent.split():\n",
    "            for cleaned_words in cleanPunctuation(w).split():\n",
    "                if((cleaned_words.isalpha()) & (len(cleaned_words)>2)):    \n",
    "                    if(cleaned_words.lower() not in stop):\n",
    "                        s=(sno.stem(cleaned_words.lower()))\n",
    "                        filtered_sentence.append(s)\n",
    "                        if (final['Score'].values)[i] == 'positive':\n",
    "                            all_positive_words.append(s) #list of all words used to describe positive reviews\n",
    "                        if(final['Score'].values)[i] == 'negative':\n",
    "                            all_negative_words.append(s) #list of all words used to describe negative reviews reviews\n",
    "        str1 = ' '.join(filtered_sentence) #final string of cleaned words\n",
    "        final_string.append(str1)\n",
    "    \n",
    "    #############---- storing the data into final.sqlite file ------########################\n",
    "    data['CleanedText']=final_string #adding a column of CleanedText which displays the data after pre-processing of the review \n",
    "    data['CleanedText']=final['CleanedText']\n",
    "    \n",
    "    conn = sqlite3.connect(final_dataset_path)\n",
    "    c=conn.cursor()\n",
    "    conn.text_factory = str\n",
    "    data.to_sql('Reviews', conn,  schema=None, if_exists='replace', \\\n",
    "                 index=True, index_label=None, chunksize=None, dtype=None)\n",
    "    conn.close()\n",
    "    \n",
    "    #saving the dictionaries\n",
    "    with open('positive_words.pkl', 'wb') as f:\n",
    "        pickle.dump(all_positive_words, f)\n",
    "    with open('negitive_words.pkl', 'wb') as f:\n",
    "        pickle.dump(all_negative_words, f)"
   ]
  },
  {
   "cell_type": "code",
   "execution_count": 4,
   "metadata": {},
   "outputs": [
    {
     "data": {
      "text/html": [
       "<div>\n",
       "<style scoped>\n",
       "    .dataframe tbody tr th:only-of-type {\n",
       "        vertical-align: middle;\n",
       "    }\n",
       "\n",
       "    .dataframe tbody tr th {\n",
       "        vertical-align: top;\n",
       "    }\n",
       "\n",
       "    .dataframe thead th {\n",
       "        text-align: right;\n",
       "    }\n",
       "</style>\n",
       "<table border=\"1\" class=\"dataframe\">\n",
       "  <thead>\n",
       "    <tr style=\"text-align: right;\">\n",
       "      <th></th>\n",
       "      <th>index</th>\n",
       "      <th>Id</th>\n",
       "      <th>ProductId</th>\n",
       "      <th>UserId</th>\n",
       "      <th>ProfileName</th>\n",
       "      <th>HelpfulnessNumerator</th>\n",
       "      <th>HelpfulnessDenominator</th>\n",
       "      <th>Score</th>\n",
       "      <th>Time</th>\n",
       "      <th>Summary</th>\n",
       "      <th>Text</th>\n",
       "      <th>CleanedText</th>\n",
       "    </tr>\n",
       "  </thead>\n",
       "  <tbody>\n",
       "    <tr>\n",
       "      <th>0</th>\n",
       "      <td>138706</td>\n",
       "      <td>150524</td>\n",
       "      <td>0006641040</td>\n",
       "      <td>ACITT7DI6IDDL</td>\n",
       "      <td>shari zychinski</td>\n",
       "      <td>0</td>\n",
       "      <td>0</td>\n",
       "      <td>positive</td>\n",
       "      <td>939340800</td>\n",
       "      <td>EVERY book is educational</td>\n",
       "      <td>this witty little book makes my son laugh at l...</td>\n",
       "      <td>witti littl book make son laugh loud recit car...</td>\n",
       "    </tr>\n",
       "    <tr>\n",
       "      <th>1</th>\n",
       "      <td>138688</td>\n",
       "      <td>150506</td>\n",
       "      <td>0006641040</td>\n",
       "      <td>A2IW4PEEKO2R0U</td>\n",
       "      <td>Tracy</td>\n",
       "      <td>1</td>\n",
       "      <td>1</td>\n",
       "      <td>positive</td>\n",
       "      <td>1194739200</td>\n",
       "      <td>Love the book, miss the hard cover version</td>\n",
       "      <td>I grew up reading these Sendak books, and watc...</td>\n",
       "      <td>grew read sendak book watch realli rosi movi i...</td>\n",
       "    </tr>\n",
       "    <tr>\n",
       "      <th>2</th>\n",
       "      <td>138689</td>\n",
       "      <td>150507</td>\n",
       "      <td>0006641040</td>\n",
       "      <td>A1S4A3IQ2MU7V4</td>\n",
       "      <td>sally sue \"sally sue\"</td>\n",
       "      <td>1</td>\n",
       "      <td>1</td>\n",
       "      <td>positive</td>\n",
       "      <td>1191456000</td>\n",
       "      <td>chicken soup with rice months</td>\n",
       "      <td>This is a fun way for children to learn their ...</td>\n",
       "      <td>fun way children learn month learn poem throug...</td>\n",
       "    </tr>\n",
       "    <tr>\n",
       "      <th>3</th>\n",
       "      <td>138690</td>\n",
       "      <td>150508</td>\n",
       "      <td>0006641040</td>\n",
       "      <td>AZGXZ2UUK6X</td>\n",
       "      <td>Catherine Hallberg \"(Kate)\"</td>\n",
       "      <td>1</td>\n",
       "      <td>1</td>\n",
       "      <td>positive</td>\n",
       "      <td>1076025600</td>\n",
       "      <td>a good swingy rhythm for reading aloud</td>\n",
       "      <td>This is a great little book to read aloud- it ...</td>\n",
       "      <td>great littl book read nice rhythm well good re...</td>\n",
       "    </tr>\n",
       "    <tr>\n",
       "      <th>4</th>\n",
       "      <td>138691</td>\n",
       "      <td>150509</td>\n",
       "      <td>0006641040</td>\n",
       "      <td>A3CMRKGE0P909G</td>\n",
       "      <td>Teresa</td>\n",
       "      <td>3</td>\n",
       "      <td>4</td>\n",
       "      <td>positive</td>\n",
       "      <td>1018396800</td>\n",
       "      <td>A great way to learn the months</td>\n",
       "      <td>This is a book of poetry about the months of t...</td>\n",
       "      <td>book poetri month year goe month cute littl po...</td>\n",
       "    </tr>\n",
       "  </tbody>\n",
       "</table>\n",
       "</div>"
      ],
      "text/plain": [
       "    index      Id   ProductId          UserId                  ProfileName  \\\n",
       "0  138706  150524  0006641040   ACITT7DI6IDDL              shari zychinski   \n",
       "1  138688  150506  0006641040  A2IW4PEEKO2R0U                        Tracy   \n",
       "2  138689  150507  0006641040  A1S4A3IQ2MU7V4        sally sue \"sally sue\"   \n",
       "3  138690  150508  0006641040     AZGXZ2UUK6X  Catherine Hallberg \"(Kate)\"   \n",
       "4  138691  150509  0006641040  A3CMRKGE0P909G                       Teresa   \n",
       "\n",
       "   HelpfulnessNumerator  HelpfulnessDenominator     Score        Time  \\\n",
       "0                     0                       0  positive   939340800   \n",
       "1                     1                       1  positive  1194739200   \n",
       "2                     1                       1  positive  1191456000   \n",
       "3                     1                       1  positive  1076025600   \n",
       "4                     3                       4  positive  1018396800   \n",
       "\n",
       "                                      Summary  \\\n",
       "0                   EVERY book is educational   \n",
       "1  Love the book, miss the hard cover version   \n",
       "2               chicken soup with rice months   \n",
       "3      a good swingy rhythm for reading aloud   \n",
       "4             A great way to learn the months   \n",
       "\n",
       "                                                Text  \\\n",
       "0  this witty little book makes my son laugh at l...   \n",
       "1  I grew up reading these Sendak books, and watc...   \n",
       "2  This is a fun way for children to learn their ...   \n",
       "3  This is a great little book to read aloud- it ...   \n",
       "4  This is a book of poetry about the months of t...   \n",
       "\n",
       "                                         CleanedText  \n",
       "0  witti littl book make son laugh loud recit car...  \n",
       "1  grew read sendak book watch realli rosi movi i...  \n",
       "2  fun way children learn month learn poem throug...  \n",
       "3  great littl book read nice rhythm well good re...  \n",
       "4  book poetri month year goe month cute littl po...  "
      ]
     },
     "execution_count": 4,
     "metadata": {},
     "output_type": "execute_result"
    }
   ],
   "source": [
    "data.head()"
   ]
  },
  {
   "cell_type": "code",
   "execution_count": 5,
   "metadata": {},
   "outputs": [],
   "source": [
    "min_data_points = 50"
   ]
  },
  {
   "cell_type": "code",
   "execution_count": 7,
   "metadata": {},
   "outputs": [],
   "source": [
    "pos_data = data[data.Score=='positive'].loc[:, ['CleanedText', 'Score']]\n",
    "pos_data = pos_data.sample(min_data_points)\n",
    "neg_data = data[data.Score=='negative'].loc[:, ['CleanedText', 'Score']]\n",
    "neg_data = neg_data.sample(min_data_points)\n",
    "part_data = pos_data.append(neg_data)\n",
    "part_data = shuffle(part_data)"
   ]
  },
  {
   "cell_type": "code",
   "execution_count": 8,
   "metadata": {},
   "outputs": [
    {
     "data": {
      "text/html": [
       "<div>\n",
       "<style scoped>\n",
       "    .dataframe tbody tr th:only-of-type {\n",
       "        vertical-align: middle;\n",
       "    }\n",
       "\n",
       "    .dataframe tbody tr th {\n",
       "        vertical-align: top;\n",
       "    }\n",
       "\n",
       "    .dataframe thead th {\n",
       "        text-align: right;\n",
       "    }\n",
       "</style>\n",
       "<table border=\"1\" class=\"dataframe\">\n",
       "  <thead>\n",
       "    <tr style=\"text-align: right;\">\n",
       "      <th></th>\n",
       "      <th>CleanedText</th>\n",
       "      <th>Score</th>\n",
       "    </tr>\n",
       "  </thead>\n",
       "  <tbody>\n",
       "    <tr>\n",
       "      <th>11754</th>\n",
       "      <td>order red cheeri cooki receiv green cheeri cou...</td>\n",
       "      <td>negative</td>\n",
       "    </tr>\n",
       "    <tr>\n",
       "      <th>220931</th>\n",
       "      <td>interest cup good coffe fine realli want tast ...</td>\n",
       "      <td>negative</td>\n",
       "    </tr>\n",
       "    <tr>\n",
       "      <th>197042</th>\n",
       "      <td>overal would nice gift unfortunat reciev mine ...</td>\n",
       "      <td>negative</td>\n",
       "    </tr>\n",
       "    <tr>\n",
       "      <th>55891</th>\n",
       "      <td>way sweet manag one make sure tri small pack b...</td>\n",
       "      <td>negative</td>\n",
       "    </tr>\n",
       "    <tr>\n",
       "      <th>235128</th>\n",
       "      <td>probabl worst coffe ever product week expir re...</td>\n",
       "      <td>negative</td>\n",
       "    </tr>\n",
       "    <tr>\n",
       "      <th>162879</th>\n",
       "      <td>gum burn hell mouth chew gum hour day work hel...</td>\n",
       "      <td>negative</td>\n",
       "    </tr>\n",
       "    <tr>\n",
       "      <th>178714</th>\n",
       "      <td>recommend coffe bean bean dark oili produc wea...</td>\n",
       "      <td>negative</td>\n",
       "    </tr>\n",
       "    <tr>\n",
       "      <th>148561</th>\n",
       "      <td>product use instead refin sugar everywher swee...</td>\n",
       "      <td>positive</td>\n",
       "    </tr>\n",
       "    <tr>\n",
       "      <th>198595</th>\n",
       "      <td>great stuff use get local whole food market st...</td>\n",
       "      <td>positive</td>\n",
       "    </tr>\n",
       "    <tr>\n",
       "      <th>139935</th>\n",
       "      <td>receiv multipack med garden green cat love cle...</td>\n",
       "      <td>positive</td>\n",
       "    </tr>\n",
       "  </tbody>\n",
       "</table>\n",
       "</div>"
      ],
      "text/plain": [
       "                                              CleanedText     Score\n",
       "11754   order red cheeri cooki receiv green cheeri cou...  negative\n",
       "220931  interest cup good coffe fine realli want tast ...  negative\n",
       "197042  overal would nice gift unfortunat reciev mine ...  negative\n",
       "55891   way sweet manag one make sure tri small pack b...  negative\n",
       "235128  probabl worst coffe ever product week expir re...  negative\n",
       "162879  gum burn hell mouth chew gum hour day work hel...  negative\n",
       "178714  recommend coffe bean bean dark oili produc wea...  negative\n",
       "148561  product use instead refin sugar everywher swee...  positive\n",
       "198595  great stuff use get local whole food market st...  positive\n",
       "139935  receiv multipack med garden green cat love cle...  positive"
      ]
     },
     "execution_count": 8,
     "metadata": {},
     "output_type": "execute_result"
    }
   ],
   "source": [
    "part_data.head(10)"
   ]
  },
  {
   "cell_type": "markdown",
   "metadata": {},
   "source": [
    "## t-SNE with Word2Vec"
   ]
  },
  {
   "cell_type": "code",
   "execution_count": 24,
   "metadata": {},
   "outputs": [],
   "source": [
    "#Using the word2vec by google instead of training my own\n",
    "with open('/home/monodeepdas112/Datasets/google_w2v_for_amazon.pkl', 'rb') as f:\n",
    "    model = pickle.load(f)"
   ]
  },
  {
   "cell_type": "code",
   "execution_count": 25,
   "metadata": {},
   "outputs": [
    {
     "data": {
      "text/plain": [
       "(300,)"
      ]
     },
     "execution_count": 25,
     "metadata": {},
     "output_type": "execute_result"
    }
   ],
   "source": [
    "#getting to know the shape of the vectors\n",
    "model['tri'].shape"
   ]
  },
  {
   "cell_type": "code",
   "execution_count": 26,
   "metadata": {},
   "outputs": [
    {
     "data": {
      "text/plain": [
       "array([-2.05078125e-01, -1.47094727e-02, -2.01171875e-01,  1.06811523e-02,\n",
       "       -6.49414062e-02, -5.81054688e-02, -2.18750000e-01, -1.52343750e-01,\n",
       "       -1.50390625e-01,  2.63671875e-02,  2.33398438e-01, -3.06396484e-02,\n",
       "        5.27343750e-02,  3.29971313e-04,  1.35742188e-01,  8.74023438e-02,\n",
       "       -2.92968750e-01,  3.92578125e-01, -4.61425781e-02,  5.46875000e-02,\n",
       "       -9.91210938e-02,  7.71484375e-02, -1.61132812e-01, -1.59179688e-01,\n",
       "       -2.13623047e-02,  3.22265625e-01, -2.36328125e-01,  2.49023438e-01,\n",
       "        1.65039062e-01, -3.26171875e-01, -7.47070312e-02,  2.77343750e-01,\n",
       "       -1.25000000e-01,  3.19824219e-02,  1.12915039e-02,  2.25830078e-02,\n",
       "       -1.00097656e-01, -1.96289062e-01,  2.46093750e-01,  1.71875000e-01,\n",
       "       -9.71679688e-02,  3.88183594e-02,  1.19140625e-01,  1.68945312e-01,\n",
       "       -1.77734375e-01,  8.15429688e-02,  4.41894531e-02, -2.07031250e-01,\n",
       "       -4.80957031e-02,  2.73437500e-01,  1.80664062e-01,  3.08593750e-01,\n",
       "        8.05664062e-03,  1.38671875e-01,  4.98046875e-02, -1.00585938e-01,\n",
       "       -6.22558594e-02, -4.14062500e-01,  1.16210938e-01,  8.64257812e-02,\n",
       "       -2.17773438e-01,  1.25976562e-01, -1.85546875e-01,  1.77734375e-01,\n",
       "        1.33789062e-01,  1.30859375e-01,  5.95703125e-02,  3.22265625e-01,\n",
       "        3.17382812e-02,  1.35742188e-01,  4.78515625e-02, -6.15234375e-02,\n",
       "        1.09863281e-01, -2.85156250e-01, -2.16064453e-02, -4.73632812e-02,\n",
       "       -2.22656250e-01, -1.60156250e-01, -9.57031250e-02,  2.72216797e-02,\n",
       "       -3.40270996e-03,  1.93359375e-01, -8.39843750e-02,  8.25195312e-02,\n",
       "       -9.91210938e-02,  1.21093750e-01, -3.67187500e-01, -2.07031250e-01,\n",
       "        1.20605469e-01, -1.01562500e-01,  2.11914062e-01, -3.10546875e-01,\n",
       "        1.22558594e-01, -7.56835938e-02, -1.93359375e-01,  2.09960938e-01,\n",
       "       -4.78515625e-02,  1.87683105e-03, -1.31835938e-01,  3.06396484e-02,\n",
       "       -2.25830078e-02, -2.50000000e-01, -5.88378906e-02, -1.24511719e-02,\n",
       "       -7.37304688e-02,  1.87500000e-01,  1.63574219e-02, -2.22656250e-01,\n",
       "       -3.54003906e-02,  1.44531250e-01, -2.12890625e-01, -1.65039062e-01,\n",
       "       -7.27539062e-02,  1.85546875e-02,  1.84570312e-01,  3.45703125e-01,\n",
       "        7.03125000e-02,  1.74804688e-01,  3.43750000e-01, -3.10546875e-01,\n",
       "        2.28515625e-01,  2.12402344e-02,  4.12597656e-02, -2.53906250e-02,\n",
       "        2.04101562e-01,  1.19140625e-01, -2.75878906e-02,  1.57226562e-01,\n",
       "        8.78906250e-02,  2.19726562e-01, -7.51953125e-02,  1.68945312e-01,\n",
       "        8.78906250e-02, -1.74804688e-01, -2.37304688e-01,  1.67236328e-02,\n",
       "        3.78417969e-02,  1.91406250e-01,  6.68945312e-02,  1.53320312e-01,\n",
       "       -1.61132812e-01, -2.91748047e-02,  1.20117188e-01, -8.98437500e-02,\n",
       "       -9.52148438e-03,  2.63671875e-01, -1.33789062e-01, -2.27050781e-02,\n",
       "        7.56835938e-02,  5.51757812e-02,  2.10937500e-01, -1.60156250e-01,\n",
       "       -6.07910156e-02, -9.08203125e-02, -1.21093750e-01, -2.75390625e-01,\n",
       "        4.00390625e-02,  8.78906250e-03,  1.81640625e-01, -1.87988281e-02,\n",
       "       -3.02734375e-01, -3.37890625e-01,  1.63085938e-01, -7.71484375e-02,\n",
       "       -5.81054688e-02, -8.10546875e-02,  4.86328125e-01, -3.30078125e-01,\n",
       "       -1.71875000e-01, -9.57031250e-02, -1.66015625e-01, -6.93359375e-02,\n",
       "       -9.47265625e-02,  5.67626953e-03, -4.78515625e-02, -1.67968750e-01,\n",
       "        1.08886719e-01, -4.45312500e-01, -1.31835938e-01, -8.59375000e-02,\n",
       "        7.32421875e-02, -9.17968750e-02, -1.76757812e-01,  1.88476562e-01,\n",
       "       -1.28906250e-01,  1.22070312e-01,  7.47680664e-03,  4.44335938e-02,\n",
       "        2.38281250e-01,  6.49414062e-02,  2.04101562e-01, -2.65625000e-01,\n",
       "        9.71679688e-02, -2.40234375e-01,  7.47070312e-02, -1.23046875e-01,\n",
       "       -1.17675781e-01,  2.12890625e-01,  6.78710938e-02, -1.87988281e-02,\n",
       "        1.71875000e-01,  2.15820312e-01, -3.12500000e-01,  6.00585938e-02,\n",
       "       -2.06054688e-01, -3.80859375e-02, -3.22265625e-01, -2.94921875e-01,\n",
       "        3.02734375e-02,  5.05371094e-02, -1.96289062e-01,  1.36108398e-02,\n",
       "       -4.15039062e-02, -7.08007812e-02,  1.41601562e-01, -1.32812500e-01,\n",
       "        1.28906250e-01, -2.12890625e-01, -3.28125000e-01,  9.47265625e-02,\n",
       "       -2.38281250e-01, -9.13085938e-02, -1.78710938e-01,  1.28906250e-01,\n",
       "       -2.92968750e-01,  8.49609375e-02,  1.11389160e-03,  5.05371094e-02,\n",
       "        1.15722656e-01,  1.75781250e-01, -3.08593750e-01,  1.45507812e-01,\n",
       "        8.20312500e-02,  1.83593750e-01,  9.58251953e-03, -8.85009766e-03,\n",
       "        2.61718750e-01,  5.54199219e-02,  9.91210938e-02,  1.31835938e-01,\n",
       "        3.02734375e-01, -1.07421875e-01,  2.89062500e-01, -1.36718750e-02,\n",
       "       -1.53320312e-01, -6.25000000e-02,  2.14843750e-01, -5.98144531e-02,\n",
       "        5.22460938e-02, -2.65625000e-01,  1.42578125e-01,  1.11328125e-01,\n",
       "        5.66406250e-02, -2.26562500e-01,  8.59375000e-02, -3.14941406e-02,\n",
       "        3.88671875e-01, -1.67968750e-01,  2.38281250e-01,  1.31835938e-01,\n",
       "       -5.68847656e-02,  3.78906250e-01, -8.88671875e-02,  1.03515625e-01,\n",
       "        3.47656250e-01,  1.83593750e-01,  1.27929688e-01,  2.13623047e-02,\n",
       "        7.17773438e-02, -1.01074219e-01,  4.80957031e-02, -2.31445312e-01,\n",
       "       -5.37109375e-02,  6.44683838e-04,  1.22070312e-01, -5.50781250e-01,\n",
       "        2.07031250e-01, -4.41894531e-02, -3.69140625e-01, -1.70898438e-01,\n",
       "       -1.26953125e-01,  8.30078125e-02,  2.81250000e-01,  2.77343750e-01,\n",
       "        4.93164062e-02, -4.63867188e-02,  1.76757812e-01,  4.80957031e-02,\n",
       "       -5.27343750e-02, -1.46484375e-01, -1.45874023e-02, -1.65039062e-01,\n",
       "        3.27148438e-02, -7.47070312e-02,  8.69140625e-02,  5.02929688e-02,\n",
       "       -1.65039062e-01, -1.38671875e-01,  3.51562500e-02, -2.53906250e-01],\n",
       "      dtype=float32)"
      ]
     },
     "execution_count": 26,
     "metadata": {},
     "output_type": "execute_result"
    }
   ],
   "source": [
    "model['tri']"
   ]
  },
  {
   "cell_type": "code",
   "execution_count": 20,
   "metadata": {},
   "outputs": [
    {
     "name": "stdout",
     "output_type": "stream",
     "text": [
      "20214\n",
      "300\n"
     ]
    }
   ],
   "source": [
    "#Averaging word2vec\n",
    "sent_vector = []\n",
    "list_of_sents = part_data.CleanedText.values\n",
    "for sent in list_of_sents:\n",
    "    sent_vec = np.zeros(300)\n",
    "    cnt_words = 0\n",
    "    for word in sent:\n",
    "        try:\n",
    "            vec = model[word]\n",
    "            sent_vec += vec\n",
    "            cnt_words +=1\n",
    "        except:\n",
    "            pass\n",
    "        sent_vec /= cnt_words\n",
    "        sent_vector.append(sent_vec)\n",
    "print(len(sent_vector))\n",
    "print(len(sent_vector[0]))"
   ]
  },
  {
   "cell_type": "code",
   "execution_count": 18,
   "metadata": {},
   "outputs": [
    {
     "ename": "AttributeError",
     "evalue": "'list' object has no attribute 'toarray'",
     "output_type": "error",
     "traceback": [
      "\u001b[0;31m---------------------------------------------------------------------------\u001b[0m",
      "\u001b[0;31mAttributeError\u001b[0m                            Traceback (most recent call last)",
      "\u001b[0;32m<ipython-input-18-65eb6fc97068>\u001b[0m in \u001b[0;36m<module>\u001b[0;34m()\u001b[0m\n\u001b[1;32m      1\u001b[0m \u001b[0;31m#setting up t-SNE using Average Word2Vec\u001b[0m\u001b[0;34m\u001b[0m\u001b[0;34m\u001b[0m\u001b[0m\n\u001b[0;32m----> 2\u001b[0;31m \u001b[0mfeatures\u001b[0m \u001b[0;34m=\u001b[0m \u001b[0msent_vector\u001b[0m\u001b[0;34m.\u001b[0m\u001b[0mtoarray\u001b[0m\u001b[0;34m(\u001b[0m\u001b[0;34m)\u001b[0m\u001b[0;34m\u001b[0m\u001b[0m\n\u001b[0m\u001b[1;32m      3\u001b[0m \u001b[0mlabels\u001b[0m \u001b[0;34m=\u001b[0m \u001b[0mpart_data\u001b[0m\u001b[0;34m[\u001b[0m\u001b[0;34m'Score'\u001b[0m\u001b[0;34m]\u001b[0m\u001b[0;34m.\u001b[0m\u001b[0mvalues\u001b[0m\u001b[0;34m\u001b[0m\u001b[0m\n\u001b[1;32m      4\u001b[0m \u001b[0;34m\u001b[0m\u001b[0m\n\u001b[1;32m      5\u001b[0m \u001b[0mmodel\u001b[0m \u001b[0;34m=\u001b[0m \u001b[0mTSNE\u001b[0m\u001b[0;34m(\u001b[0m\u001b[0mn_components\u001b[0m\u001b[0;34m=\u001b[0m\u001b[0;36m2\u001b[0m\u001b[0;34m,\u001b[0m \u001b[0mrandom_state\u001b[0m\u001b[0;34m=\u001b[0m\u001b[0;36m0\u001b[0m\u001b[0;34m,\u001b[0m \u001b[0mperplexity\u001b[0m\u001b[0;34m=\u001b[0m\u001b[0;36m50\u001b[0m\u001b[0;34m,\u001b[0m \u001b[0mn_iter\u001b[0m\u001b[0;34m=\u001b[0m\u001b[0;36m5000\u001b[0m\u001b[0;34m)\u001b[0m\u001b[0;34m\u001b[0m\u001b[0m\n",
      "\u001b[0;31mAttributeError\u001b[0m: 'list' object has no attribute 'toarray'"
     ]
    }
   ],
   "source": [
    "#setting up t-SNE using Average Word2Vec\n",
    "features = sent_vector\n",
    "labels = part_data['Score'].values\n",
    "\n",
    "model = TSNE(n_components=2, random_state=0, perplexity=50, n_iter=5000)\n",
    "tsne_data = model.fit_transform(features)\n",
    "\n",
    "#creating a new dataframe which help in plotting the result data\n",
    "tsne_data = np.vstack((tsne_data.T, labels)).T\n",
    "tsne_df = pd.DataFrame(data=tsne_data, columns=('Dim_1', 'Dim_2', 'label'))\n",
    "\n",
    "pos = tsne_df[tsne_df.label=='positive']\n",
    "neg = tsne_df[tsne_df.label=='negative']\n",
    "plt.scatter(pos.iloc[:,0], pos.iloc[:,1], c='r')\n",
    "plt.scatter(neg.iloc[:,0], neg.iloc[:,1], c='b')\n",
    "plt.show()"
   ]
  },
  {
   "cell_type": "code",
   "execution_count": null,
   "metadata": {},
   "outputs": [],
   "source": []
  },
  {
   "cell_type": "markdown",
   "metadata": {},
   "source": [
    "## t-SNE with Bag of Words and TFIDF Vectors"
   ]
  },
  {
   "cell_type": "code",
   "execution_count": null,
   "metadata": {},
   "outputs": [],
   "source": [
    "#Generating the Count Vectors for the cleaned Text with bi-grams and unigrams\n",
    "cnt_vec = CountVectorizer(ngram_range=(1,3))\n",
    "count_vectors = cnt_vec.fit_transform(part_data['CleanedText'].values)\n",
    "print(\"the shape of out text BOW vectorizer \",count_vectors.get_shape())\n",
    "print(\"the number of unique words \", count_vectors.get_shape()[1])\n",
    "\n",
    "tfidf_vec = TfidfVectorizer(ngram_range=(1,3))\n",
    "tfidf_vectors = tfidf_vec.fit_transform(part_data['CleanedText'].values)\n",
    "print(\"the shape of out text TFIDF vectorizer \",count_vectors.get_shape())\n",
    "print(\"the number of unique words \", count_vectors.get_shape()[1])"
   ]
  },
  {
   "cell_type": "code",
   "execution_count": null,
   "metadata": {},
   "outputs": [],
   "source": [
    "#setting up t-SNE using BOW\n",
    "features = count_vectors.toarray()\n",
    "labels = part_data['Score'].values\n",
    "\n",
    "model = TSNE(n_components=2, random_state=0, perplexity=50, n_iter=5000)\n",
    "tsne_data = model.fit_transform(features)\n",
    "\n",
    "#creating a new dataframe which help in plotting the result data\n",
    "tsne_data = np.vstack((tsne_data.T, labels)).T\n",
    "tsne_df = pd.DataFrame(data=tsne_data, columns=('Dim_1', 'Dim_2', 'label'))\n",
    "\n",
    "pos = tsne_df[tsne_df.label=='positive']\n",
    "neg = tsne_df[tsne_df.label=='negative']\n",
    "plt.scatter(pos.iloc[:,0], pos.iloc[:,1], c='r')\n",
    "plt.scatter(neg.iloc[:,0], neg.iloc[:,1], c='b')\n",
    "plt.show()"
   ]
  },
  {
   "cell_type": "code",
   "execution_count": 13,
   "metadata": {},
   "outputs": [
    {
     "data": {
      "image/png": "[encoded data removed]",
      "text/plain": [
       "<Figure size 432x288 with 1 Axes>"
      ]
     },
     "metadata": {
      "needs_background": "light"
     },
     "output_type": "display_data"
    }
   ],
   "source": [
    "#setting up t-SNE using TFIDF\n",
    "features = tfidf_vectors.toarray()\n",
    "labels = part_data['Score'].values\n",
    "\n",
    "model = TSNE(n_components=2, random_state=0, perplexity=50, n_iter=5000)\n",
    "tsne_data = model.fit_transform(features)\n",
    "\n",
    "#creating a new dataframe which help in plotting the result data\n",
    "tsne_data = np.vstack((tsne_data.T, labels)).T\n",
    "tsne_df = pd.DataFrame(data=tsne_data, columns=('Dim_1', 'Dim_2', 'label'))\n",
    "\n",
    "pos = tsne_df[tsne_df.label=='positive']\n",
    "neg = tsne_df[tsne_df.label=='negative']\n",
    "plt.scatter(pos.iloc[:,0], pos.iloc[:,1], c='r')\n",
    "plt.scatter(neg.iloc[:,0], neg.iloc[:,1], c='b')\n",
    "plt.show()"
   ]
  },
  {
   "cell_type": "code",
   "execution_count": 14,
   "metadata": {},
   "outputs": [
    {
     "data": {
      "image/png": "[encoded data removed]",
      "text/plain": [
       "<Figure size 432x288 with 1 Axes>"
      ]
     },
     "metadata": {
      "needs_background": "light"
     },
     "output_type": "display_data"
    }
   ],
   "source": [
    "#setting up t-SNE using BOW\n",
    "features = count_vectors.toarray()\n",
    "labels = part_data['Score'].values\n",
    "\n",
    "model = TSNE(n_components=2, random_state=0, perplexity=100, n_iter=5000)\n",
    "tsne_data = model.fit_transform(features)\n",
    "\n",
    "#creating a new dataframe which help in plotting the result data\n",
    "tsne_data = np.vstack((tsne_data.T, labels)).T\n",
    "tsne_df = pd.DataFrame(data=tsne_data, columns=('Dim_1', 'Dim_2', 'label'))\n",
    "\n",
    "pos = tsne_df[tsne_df.label=='positive']\n",
    "neg = tsne_df[tsne_df.label=='negative']\n",
    "plt.scatter(pos.iloc[:,0], pos.iloc[:,1], c='r')\n",
    "plt.scatter(neg.iloc[:,0], neg.iloc[:,1], c='b')\n",
    "plt.show()"
   ]
  },
  {
   "cell_type": "code",
   "execution_count": 15,
   "metadata": {},
   "outputs": [
    {
     "data": {
      "image/png": "[encoded data removed]",
      "text/plain": [
       "<Figure size 432x288 with 1 Axes>"
      ]
     },
     "metadata": {
      "needs_background": "light"
     },
     "output_type": "display_data"
    }
   ],
   "source": [
    "#setting up t-SNE using TFIDF\n",
    "features = tfidf_vectors.toarray()\n",
    "labels = part_data['Score'].values\n",
    "\n",
    "model = TSNE(n_components=2, random_state=0, perplexity=100, n_iter=5000)\n",
    "tsne_data = model.fit_transform(features)\n",
    "\n",
    "#creating a new dataframe which help in plotting the result data\n",
    "tsne_data = np.vstack((tsne_data.T, labels)).T\n",
    "tsne_df = pd.DataFrame(data=tsne_data, columns=('Dim_1', 'Dim_2', 'label'))\n",
    "\n",
    "pos = tsne_df[tsne_df.label=='positive']\n",
    "neg = tsne_df[tsne_df.label=='negative']\n",
    "plt.scatter(pos.iloc[:,0], pos.iloc[:,1], c='r')\n",
    "plt.scatter(neg.iloc[:,0], neg.iloc[:,1], c='b')\n",
    "plt.show()"
   ]
  },
  {
   "cell_type": "code",
   "execution_count": 16,
   "metadata": {},
   "outputs": [
    {
     "data": {
      "image/png": "[encoded data removed]",
      "text/plain": [
       "<Figure size 432x288 with 1 Axes>"
      ]
     },
     "metadata": {
      "needs_background": "light"
     },
     "output_type": "display_data"
    }
   ],
   "source": [
    "#setting up t-SNE using BOW\n",
    "features = count_vectors.toarray()\n",
    "labels = part_data['Score'].values\n",
    "\n",
    "model = TSNE(n_components=2, random_state=0, perplexity=30, n_iter=10000)\n",
    "tsne_data = model.fit_transform(features)\n",
    "\n",
    "#creating a new dataframe which help in plotting the result data\n",
    "tsne_data = np.vstack((tsne_data.T, labels)).T\n",
    "tsne_df = pd.DataFrame(data=tsne_data, columns=('Dim_1', 'Dim_2', 'label'))\n",
    "\n",
    "pos = tsne_df[tsne_df.label=='positive']\n",
    "neg = tsne_df[tsne_df.label=='negative']\n",
    "plt.scatter(pos.iloc[:,0], pos.iloc[:,1], c='r')\n",
    "plt.scatter(neg.iloc[:,0], neg.iloc[:,1], c='b')\n",
    "plt.show()"
   ]
  },
  {
   "cell_type": "code",
   "execution_count": 17,
   "metadata": {},
   "outputs": [
    {
     "data": {
      "image/png": "[encoded data removed]",
      "text/plain": [
       "<Figure size 432x288 with 1 Axes>"
      ]
     },
     "metadata": {
      "needs_background": "light"
     },
     "output_type": "display_data"
    }
   ],
   "source": [
    "#setting up t-SNE using TFIDF\n",
    "features = tfidf_vectors.toarray()\n",
    "labels = part_data['Score'].values\n",
    "\n",
    "model = TSNE(n_components=2, random_state=0, perplexity=30, n_iter=10000)\n",
    "tsne_data = model.fit_transform(features)\n",
    "\n",
    "#creating a new dataframe which help in plotting the result data\n",
    "tsne_data = np.vstack((tsne_data.T, labels)).T\n",
    "tsne_df = pd.DataFrame(data=tsne_data, columns=('Dim_1', 'Dim_2', 'label'))\n",
    "\n",
    "pos = tsne_df[tsne_df.label=='positive']\n",
    "neg = tsne_df[tsne_df.label=='negative']\n",
    "plt.scatter(pos.iloc[:,0], pos.iloc[:,1], c='r')\n",
    "plt.scatter(neg.iloc[:,0], neg.iloc[:,1], c='b')\n",
    "plt.show()"
   ]
  },
  {
   "cell_type": "markdown",
   "metadata": {},
   "source": [
    "## t-SNE Visualization with Word2Vec"
   ]
  },
  {
   "cell_type": "code",
   "execution_count": 1,
   "metadata": {},
   "outputs": [
    {
     "ename": "NameError",
     "evalue": "name 'pickle' is not defined",
     "output_type": "error",
     "traceback": [
      "\u001b[0;31m---------------------------------------------------------------------------\u001b[0m",
      "\u001b[0;31mNameError\u001b[0m                                 Traceback (most recent call last)",
      "\u001b[0;32m<ipython-input-1-86f3b5f0a752>\u001b[0m in \u001b[0;36m<module>\u001b[0;34m()\u001b[0m\n\u001b[1;32m      1\u001b[0m \u001b[0;32mwith\u001b[0m \u001b[0mopen\u001b[0m\u001b[0;34m(\u001b[0m\u001b[0;34m'/home/monodeepdas112/Datasets/google_w2v_for_amazon.pkl'\u001b[0m\u001b[0;34m,\u001b[0m \u001b[0;34m'rb'\u001b[0m\u001b[0;34m)\u001b[0m \u001b[0;32mas\u001b[0m \u001b[0mf\u001b[0m\u001b[0;34m:\u001b[0m\u001b[0;34m\u001b[0m\u001b[0m\n\u001b[0;32m----> 2\u001b[0;31m     \u001b[0mmodel\u001b[0m \u001b[0;34m=\u001b[0m \u001b[0mpickle\u001b[0m\u001b[0;34m.\u001b[0m\u001b[0mload\u001b[0m\u001b[0;34m(\u001b[0m\u001b[0mf\u001b[0m\u001b[0;34m)\u001b[0m\u001b[0;34m\u001b[0m\u001b[0m\n\u001b[0m",
      "\u001b[0;31mNameError\u001b[0m: name 'pickle' is not defined"
     ]
    }
   ],
   "source": [
    "with open('/home/monodeepdas112/Datasets/google_w2v_for_amazon.pkl', 'rb') as f:\n",
    "    model = pickle.load(f)"
   ]
  },
  {
   "cell_type": "code",
   "execution_count": null,
   "metadata": {},
   "outputs": [],
   "source": []
  }
 ],
 "metadata": {
  "kernelspec": {
   "display_name": "Python 3",
   "language": "python",
   "name": "python3"
  },
  "language_info": {
   "codemirror_mode": {
    "name": "ipython",
    "version": 3
   },
   "file_extension": ".py",
   "mimetype": "text/x-python",
   "name": "python",
   "nbconvert_exporter": "python",
   "pygments_lexer": "ipython3",
   "version": "3.7.0"
  }
 },
 "nbformat": 4,
 "nbformat_minor": 2
}
